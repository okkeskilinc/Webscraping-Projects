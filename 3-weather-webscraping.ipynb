{
 "cells": [
  {
   "cell_type": "code",
   "execution_count": 1,
   "id": "778a4726",
   "metadata": {},
   "outputs": [],
   "source": [
    "import requests\n",
    "import pandas as pd\n",
    "from bs4 import BeautifulSoup as BSoup"
   ]
  },
  {
   "cell_type": "code",
   "execution_count": 16,
   "id": "eb54cd3a",
   "metadata": {},
   "outputs": [
    {
     "data": {
      "text/plain": [
       "<Response [200]>"
      ]
     },
     "execution_count": 16,
     "metadata": {},
     "output_type": "execute_result"
    }
   ],
   "source": [
    "url=\"https://forecast.weather.gov/MapClick.php?lat=37.7772&lon=-122.4168\"\n",
    "page=requests.get(url)\n",
    "page"
   ]
  },
  {
   "cell_type": "code",
   "execution_count": 17,
   "id": "55499b99",
   "metadata": {},
   "outputs": [],
   "source": [
    "soup=BSoup(page.content,\"html.parser\")"
   ]
  },
  {
   "cell_type": "code",
   "execution_count": 44,
   "id": "3fd3e3ab",
   "metadata": {},
   "outputs": [
    {
     "name": "stdout",
     "output_type": "stream",
     "text": [
      "<li class=\"forecast-tombstone\">\n",
      " <div class=\"tombstone-container\">\n",
      "  <p class=\"period-name\">\n",
      "   This\n",
      "   <br/>\n",
      "   Afternoon\n",
      "  </p>\n",
      "  <p>\n",
      "   <img alt=\"This Afternoon: Mostly cloudy, with a high near 64. West wind 7 to 15 mph, with gusts as high as 20 mph. \" class=\"forecast-icon\" src=\"newimages/medium/bkn.png\" title=\"This Afternoon: Mostly cloudy, with a high near 64. West wind 7 to 15 mph, with gusts as high as 20 mph. \"/>\n",
      "  </p>\n",
      "  <p class=\"short-desc\">\n",
      "   Mostly Cloudy\n",
      "  </p>\n",
      "  <p class=\"temp temp-high\">\n",
      "   High: 64 °F\n",
      "  </p>\n",
      " </div>\n",
      "</li>\n",
      "\n"
     ]
    }
   ],
   "source": [
    "seven_day=soup.find(id=\"seven-day-forecast\")\n",
    "forecast_items=seven_day.find_all(class_=\"forecast-tombstone\")\n",
    "tonight=forecast_items[0]\n",
    "print(tonight.prettify())"
   ]
  },
  {
   "cell_type": "code",
   "execution_count": 55,
   "id": "7ada81a8",
   "metadata": {},
   "outputs": [
    {
     "name": "stdout",
     "output_type": "stream",
     "text": [
      "ThisAfternoon\n",
      "Mostly Cloudy\n",
      "High: 64 °F\n"
     ]
    }
   ],
   "source": [
    "period=tonight.find(class_=\"period-name\").text\n",
    "short_desc=tonight.find(class_=\"short-desc\").text\n",
    "temp=tonight.find(class_=\"temp\").text\n",
    "print(period)\n",
    "print(short_desc)\n",
    "print(temp)"
   ]
  },
  {
   "cell_type": "code",
   "execution_count": 61,
   "id": "3541bc8e",
   "metadata": {},
   "outputs": [
    {
     "name": "stdout",
     "output_type": "stream",
     "text": [
      "This Afternoon: Mostly cloudy, with a high near 64. West wind 7 to 15 mph, with gusts as high as 20 mph. \n"
     ]
    }
   ],
   "source": [
    "img=tonight.find('img')\n",
    "desc=img['title']\n",
    "print(desc)"
   ]
  },
  {
   "cell_type": "code",
   "execution_count": 66,
   "id": "1c3b6fb5",
   "metadata": {},
   "outputs": [
    {
     "name": "stdout",
     "output_type": "stream",
     "text": [
      "['ThisAfternoon', 'Tonight', 'Tuesday', 'TuesdayNight', 'Wednesday', 'WednesdayNight', 'Thursday', 'ThursdayNight', 'Friday']\n"
     ]
    }
   ],
   "source": [
    "period_tags=seven_day.select(\".tombstone-container .period-name\")\n",
    "periods=[pt.text for pt in period_tags]\n",
    "print(periods)"
   ]
  },
  {
   "cell_type": "code",
   "execution_count": 73,
   "id": "e2d168b5",
   "metadata": {},
   "outputs": [
    {
     "name": "stdout",
     "output_type": "stream",
     "text": [
      "['Mostly Cloudy', 'Mostly Cloudy', 'BecomingSunny', 'Partly Cloudy', 'Mostly Sunny', 'Mostly Cloudy', 'Partly Sunny', 'Chance Rain', 'Slight ChanceRain thenPartly Sunny']\n"
     ]
    }
   ],
   "source": [
    "short_tags=seven_day.select(\".tombstone-container .short-desc\")\n",
    "shorts=[st.text for st in short_tags]\n",
    "print(shorts)"
   ]
  },
  {
   "cell_type": "code",
   "execution_count": 74,
   "id": "557379a3",
   "metadata": {},
   "outputs": [
    {
     "name": "stdout",
     "output_type": "stream",
     "text": [
      "['High: 64 °F', 'Low: 55 °F', 'High: 66 °F', 'Low: 50 °F', 'High: 66 °F', 'Low: 51 °F', 'High: 63 °F', 'Low: 52 °F', 'High: 63 °F']\n"
     ]
    }
   ],
   "source": [
    "temp_tags=seven_day.select(\".tombstone-container .temp\")\n",
    "temps=[tt.text for tt in temp_tags]\n",
    "print(temps)"
   ]
  },
  {
   "cell_type": "code",
   "execution_count": 75,
   "id": "1b542992",
   "metadata": {},
   "outputs": [
    {
     "name": "stdout",
     "output_type": "stream",
     "text": [
      "['This Afternoon: Mostly cloudy, with a high near 64. West wind 7 to 15 mph, with gusts as high as 20 mph. ', 'Tonight: Mostly cloudy, with a low around 55. West wind 10 to 13 mph. ', 'Tuesday: Partly sunny, then gradually becoming sunny, with a high near 66. Light and variable wind becoming west northwest 5 to 10 mph in the morning. ', 'Tuesday Night: Partly cloudy, with a low around 50. Calm wind. ', 'Wednesday: Mostly sunny, with a high near 66. Northeast wind around 6 mph. ', 'Wednesday Night: Mostly cloudy, with a low around 51.', 'Thursday: Partly sunny, with a high near 63.', 'Thursday Night: A chance of rain, mainly before 4am.  Mostly cloudy, with a low around 52.', 'Friday: A slight chance of rain before 10am.  Mostly cloudy, with a high near 63.']\n"
     ]
    }
   ],
   "source": [
    "img_tags=seven_day.select(\".tombstone-container img\")\n",
    "descs=[d['title'] for d in img_tags]\n",
    "print(descs)"
   ]
  },
  {
   "cell_type": "code",
   "execution_count": 76,
   "id": "f259e596",
   "metadata": {},
   "outputs": [],
   "source": [
    "weather=pd.DataFrame({\n",
    "    \"period\":periods,\n",
    "    \"short\":shorts,\n",
    "    \"temp\":temps,\n",
    "    \"desc\":descs\n",
    "})"
   ]
  },
  {
   "cell_type": "code",
   "execution_count": 77,
   "id": "f25f1204",
   "metadata": {},
   "outputs": [
    {
     "data": {
      "text/html": [
       "<div>\n",
       "<style scoped>\n",
       "    .dataframe tbody tr th:only-of-type {\n",
       "        vertical-align: middle;\n",
       "    }\n",
       "\n",
       "    .dataframe tbody tr th {\n",
       "        vertical-align: top;\n",
       "    }\n",
       "\n",
       "    .dataframe thead th {\n",
       "        text-align: right;\n",
       "    }\n",
       "</style>\n",
       "<table border=\"1\" class=\"dataframe\">\n",
       "  <thead>\n",
       "    <tr style=\"text-align: right;\">\n",
       "      <th></th>\n",
       "      <th>period</th>\n",
       "      <th>short</th>\n",
       "      <th>temp</th>\n",
       "      <th>desc</th>\n",
       "    </tr>\n",
       "  </thead>\n",
       "  <tbody>\n",
       "    <tr>\n",
       "      <th>0</th>\n",
       "      <td>ThisAfternoon</td>\n",
       "      <td>Mostly Cloudy</td>\n",
       "      <td>High: 64 °F</td>\n",
       "      <td>This Afternoon: Mostly cloudy, with a high nea...</td>\n",
       "    </tr>\n",
       "    <tr>\n",
       "      <th>1</th>\n",
       "      <td>Tonight</td>\n",
       "      <td>Mostly Cloudy</td>\n",
       "      <td>Low: 55 °F</td>\n",
       "      <td>Tonight: Mostly cloudy, with a low around 55. ...</td>\n",
       "    </tr>\n",
       "    <tr>\n",
       "      <th>2</th>\n",
       "      <td>Tuesday</td>\n",
       "      <td>BecomingSunny</td>\n",
       "      <td>High: 66 °F</td>\n",
       "      <td>Tuesday: Partly sunny, then gradually becoming...</td>\n",
       "    </tr>\n",
       "    <tr>\n",
       "      <th>3</th>\n",
       "      <td>TuesdayNight</td>\n",
       "      <td>Partly Cloudy</td>\n",
       "      <td>Low: 50 °F</td>\n",
       "      <td>Tuesday Night: Partly cloudy, with a low aroun...</td>\n",
       "    </tr>\n",
       "    <tr>\n",
       "      <th>4</th>\n",
       "      <td>Wednesday</td>\n",
       "      <td>Mostly Sunny</td>\n",
       "      <td>High: 66 °F</td>\n",
       "      <td>Wednesday: Mostly sunny, with a high near 66. ...</td>\n",
       "    </tr>\n",
       "    <tr>\n",
       "      <th>5</th>\n",
       "      <td>WednesdayNight</td>\n",
       "      <td>Mostly Cloudy</td>\n",
       "      <td>Low: 51 °F</td>\n",
       "      <td>Wednesday Night: Mostly cloudy, with a low aro...</td>\n",
       "    </tr>\n",
       "    <tr>\n",
       "      <th>6</th>\n",
       "      <td>Thursday</td>\n",
       "      <td>Partly Sunny</td>\n",
       "      <td>High: 63 °F</td>\n",
       "      <td>Thursday: Partly sunny, with a high near 63.</td>\n",
       "    </tr>\n",
       "    <tr>\n",
       "      <th>7</th>\n",
       "      <td>ThursdayNight</td>\n",
       "      <td>Chance Rain</td>\n",
       "      <td>Low: 52 °F</td>\n",
       "      <td>Thursday Night: A chance of rain, mainly befor...</td>\n",
       "    </tr>\n",
       "    <tr>\n",
       "      <th>8</th>\n",
       "      <td>Friday</td>\n",
       "      <td>Slight ChanceRain thenPartly Sunny</td>\n",
       "      <td>High: 63 °F</td>\n",
       "      <td>Friday: A slight chance of rain before 10am.  ...</td>\n",
       "    </tr>\n",
       "  </tbody>\n",
       "</table>\n",
       "</div>"
      ],
      "text/plain": [
       "           period                               short         temp  \\\n",
       "0   ThisAfternoon                       Mostly Cloudy  High: 64 °F   \n",
       "1         Tonight                       Mostly Cloudy   Low: 55 °F   \n",
       "2         Tuesday                       BecomingSunny  High: 66 °F   \n",
       "3    TuesdayNight                       Partly Cloudy   Low: 50 °F   \n",
       "4       Wednesday                        Mostly Sunny  High: 66 °F   \n",
       "5  WednesdayNight                       Mostly Cloudy   Low: 51 °F   \n",
       "6        Thursday                        Partly Sunny  High: 63 °F   \n",
       "7   ThursdayNight                         Chance Rain   Low: 52 °F   \n",
       "8          Friday  Slight ChanceRain thenPartly Sunny  High: 63 °F   \n",
       "\n",
       "                                                desc  \n",
       "0  This Afternoon: Mostly cloudy, with a high nea...  \n",
       "1  Tonight: Mostly cloudy, with a low around 55. ...  \n",
       "2  Tuesday: Partly sunny, then gradually becoming...  \n",
       "3  Tuesday Night: Partly cloudy, with a low aroun...  \n",
       "4  Wednesday: Mostly sunny, with a high near 66. ...  \n",
       "5  Wednesday Night: Mostly cloudy, with a low aro...  \n",
       "6       Thursday: Partly sunny, with a high near 63.  \n",
       "7  Thursday Night: A chance of rain, mainly befor...  \n",
       "8  Friday: A slight chance of rain before 10am.  ...  "
      ]
     },
     "execution_count": 77,
     "metadata": {},
     "output_type": "execute_result"
    }
   ],
   "source": [
    "weather"
   ]
  },
  {
   "cell_type": "code",
   "execution_count": null,
   "id": "79dc01d2",
   "metadata": {},
   "outputs": [],
   "source": []
  }
 ],
 "metadata": {
  "kernelspec": {
   "display_name": "Python 3",
   "language": "python",
   "name": "python3"
  },
  "language_info": {
   "codemirror_mode": {
    "name": "ipython",
    "version": 3
   },
   "file_extension": ".py",
   "mimetype": "text/x-python",
   "name": "python",
   "nbconvert_exporter": "python",
   "pygments_lexer": "ipython3",
   "version": "3.8.8"
  }
 },
 "nbformat": 4,
 "nbformat_minor": 5
}
